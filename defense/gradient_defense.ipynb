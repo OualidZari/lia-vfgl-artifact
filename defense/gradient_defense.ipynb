{
 "cells": [
  {
   "cell_type": "code",
   "execution_count": null,
   "metadata": {},
   "outputs": [],
   "source": [
    "class ActiveModel(nn.Module):\n",
    "    def __init__(self, args, input_size, output_size):\n",
    "        super(ActiveModel, self).__init__()\n",
    "        self.fc1 = nn.Linear(input_size, input_size)\n",
    "        self.fc2 = nn.Linear(input_size, output_size)\n",
    "        self.args = args\n",
    "        if args.initialize:\n",
    "            weight_init_factor = args.weight_init_factor\n",
    "            self.fc1.weight.data.fill_(1) * weight_init_factor\n",
    "            self.fc2.weight.data.fill_(1) * weight_init_factor\n",
    "            self.fc1.bias.data.fill_(0)\n",
    "            self.fc2.bias.data.fill_(0)\n",
    "\n",
    "    def add_noise_to_grad(self, grad):\n",
    "        if self.args.gradient_defense:\n",
    "            noise = torch.randn_like(grad) * self.args.gradient_defense_noise_level\n",
    "            return grad + noise\n",
    "        return grad\n",
    "\n",
    "    def forward(self, x):\n",
    "        if self.training and self.args.gradient_defense_noise_level:\n",
    "            x.register_hook(self.add_noise_to_grad)\n",
    "        x = F.relu(self.fc1(x))\n",
    "        x = self.fc2(x)\n",
    "        x = F.log_softmax(x, dim=1)\n",
    "        return x"
   ]
  }
 ],
 "metadata": {
  "language_info": {
   "name": "python"
  }
 },
 "nbformat": 4,
 "nbformat_minor": 2
}
