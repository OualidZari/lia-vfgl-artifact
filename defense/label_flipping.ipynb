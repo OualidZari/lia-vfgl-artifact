{
 "cells": [
  {
   "cell_type": "code",
   "execution_count": 4,
   "metadata": {},
   "outputs": [],
   "source": [
    "from torch_geometric.datasets import Planetoid, Twitch, TUDataset, Amazon\n",
    "import numpy as np\n",
    "import torch"
   ]
  },
  {
   "cell_type": "code",
   "execution_count": 5,
   "metadata": {},
   "outputs": [
    {
     "name": "stdout",
     "output_type": "stream",
     "text": [
      "Class Proportions (alpha_c): [0.12961595 0.08013294 0.15435746 0.30206795 0.15731167 0.11004431\n",
      " 0.06646972]\n",
      "Approximated Attack Accuracy: 0.8204322113590892\n"
     ]
    }
   ],
   "source": [
    "# Load Cora dataset\n",
    "dataset = Planetoid(root='/tmp/Cora', name='Cora')\n",
    "data = dataset[0]\n",
    "\n",
    "# Calculate class proportions\n",
    "labels = data.y.numpy()\n",
    "unique, counts = np.unique(labels, return_counts=True)\n",
    "N = labels.size\n",
    "alpha_c = counts / N\n",
    "\n",
    "# Calculate actual accuracy (Placeholder for simulation or actual calculation)\n",
    "# This part requires an actual link prediction model or attack model which we're approximating.\n",
    "# attack_accuracy = simulate_attack(data)  # This would be an actual function if we had it.\n",
    "\n",
    "# Calculate approximated accuracy\n",
    "approximated_accuracy = 1 - np.sum(alpha_c**2)\n",
    "\n",
    "print(\"Class Proportions (alpha_c):\", alpha_c)\n",
    "print(\"Approximated Attack Accuracy:\", approximated_accuracy)\n"
   ]
  },
  {
   "cell_type": "code",
   "execution_count": 46,
   "metadata": {},
   "outputs": [
    {
     "name": "stdout",
     "output_type": "stream",
     "text": [
      "Optimization terminated successfully    (Exit mode 0)\n",
      "            Current function value: -0.2516645430416846\n",
      "            Iterations: 53\n",
      "            Function evaluations: 524\n",
      "            Gradient evaluations: 51\n",
      "Optimization Result:      fun: -0.2516645430416846\n",
      "     jac: array([-6.59208618e-01, -1.13383174e-01, -3.08625728e-01, -6.04159206e-01,\n",
      "       -3.14623337e-01, -1.49011612e-08, -1.49011612e-08])\n",
      " message: 'Optimization terminated successfully'\n",
      "    nfev: 524\n",
      "     nit: 53\n",
      "    njev: 51\n",
      "  status: 0\n",
      " success: True\n",
      "       x: array([0.3296065 , 0.05669163, 0.15431281, 0.3020774 , 0.15731166,\n",
      "       0.        , 0.        ])\n",
      "Optimized Proportions: [0.3296065  0.05669163 0.15431281 0.3020774  0.15731166 0.\n",
      " 0.        ]\n",
      "Optimized Sum of Squares: 0.2516645430416846\n",
      "Iteration limit reached    (Exit mode 9)\n",
      "            Current function value: -0.4185013911940551\n",
      "            Iterations: 1000\n",
      "            Function evaluations: 17805\n",
      "            Gradient evaluations: 1000\n",
      "Optimization Result:      fun: -0.4185013911940551\n",
      "     jac: array([-1.72523890e-01, -1.49011612e-08, -3.08714923e-01, -1.20413803e+00,\n",
      "       -3.14623334e-01, -1.49011612e-08, -1.49011612e-08])\n",
      " message: 'Iteration limit reached'\n",
      "    nfev: 17805\n",
      "     nit: 1000\n",
      "    njev: 1000\n",
      "  status: 9\n",
      " success: False\n",
      "       x: array([8.62619373e-02, 3.92587994e-12, 1.54357453e-01, 6.02069006e-01,\n",
      "       1.57311660e-01, 4.38950618e-12, 3.17511746e-12])\n"
     ]
    },
    {
     "ename": "ValueError",
     "evalue": "Optimization failed: Iteration limit reached",
     "output_type": "error",
     "traceback": [
      "\u001b[0;31m---------------------------------------------------------------------------\u001b[0m",
      "\u001b[0;31mValueError\u001b[0m                                Traceback (most recent call last)",
      "Input \u001b[0;32mIn [46]\u001b[0m, in \u001b[0;36m<cell line: 114>\u001b[0;34m()\u001b[0m\n\u001b[1;32m    111\u001b[0m initial_proportions \u001b[38;5;241m=\u001b[39m alpha_c\n\u001b[1;32m    112\u001b[0m budget \u001b[38;5;241m=\u001b[39m \u001b[38;5;241m0.3\u001b[39m\n\u001b[0;32m--> 114\u001b[0m optimized_proportions, _ \u001b[38;5;241m=\u001b[39m \u001b[43moptimize_proportions\u001b[49m\u001b[43m(\u001b[49m\u001b[43minitial_proportions\u001b[49m\u001b[43m,\u001b[49m\u001b[43m \u001b[49m\u001b[43mbudget\u001b[49m\u001b[43m)\u001b[49m\n\u001b[1;32m    115\u001b[0m new_labels \u001b[38;5;241m=\u001b[39m convert_labels(initial_labels, initial_proportions, optimized_proportions)\n\u001b[1;32m    117\u001b[0m \u001b[38;5;28mprint\u001b[39m(\u001b[38;5;124m\"\u001b[39m\u001b[38;5;124mInitial Labels:\u001b[39m\u001b[38;5;124m\"\u001b[39m, np\u001b[38;5;241m.\u001b[39marray(initial_labels))\n",
      "Input \u001b[0;32mIn [46]\u001b[0m, in \u001b[0;36moptimize_proportions\u001b[0;34m(initial_proportions, budget, max_iter)\u001b[0m\n\u001b[1;32m     47\u001b[0m     \u001b[38;5;28;01mreturn\u001b[39;00m optimized_proportions, optimized_sum_of_squares\n\u001b[1;32m     48\u001b[0m \u001b[38;5;28;01melse\u001b[39;00m:\n\u001b[0;32m---> 49\u001b[0m     \u001b[38;5;28;01mraise\u001b[39;00m \u001b[38;5;167;01mValueError\u001b[39;00m(\u001b[38;5;124m\"\u001b[39m\u001b[38;5;124mOptimization failed: \u001b[39m\u001b[38;5;124m\"\u001b[39m \u001b[38;5;241m+\u001b[39m result\u001b[38;5;241m.\u001b[39mmessage)\n",
      "\u001b[0;31mValueError\u001b[0m: Optimization failed: Iteration limit reached"
     ]
    }
   ],
   "source": [
    "import numpy as np\n",
    "from scipy.optimize import minimize\n",
    "\n",
    "def optimize_proportions(initial_proportions, budget, max_iter=1000):\n",
    "    n = len(initial_proportions)\n",
    "    \n",
    "    # Objective function (negative sum of squares)\n",
    "    def objective(alpha):\n",
    "        return -np.sum(alpha**2)\n",
    "    \n",
    "    # Equality constraint: sum of proportions must equal 1\n",
    "    def equality_constraint(alpha):\n",
    "        return np.sum(alpha) - 1\n",
    "    \n",
    "    # Inequality constraint: sum of negative changes must be within budget\n",
    "    def inequality_constraint(alpha):\n",
    "        return budget - np.sum(np.maximum(0, initial_proportions - alpha))\n",
    "    \n",
    "    # Non-negativity constraint\n",
    "    bounds = [(0, None) for _ in range(n)]\n",
    "    \n",
    "    # Initial guess (starting point)\n",
    "    initial_guess = np.array(initial_proportions)\n",
    "    \n",
    "    # Define constraints in the form required by `scipy.optimize.minimize`\n",
    "    constraints = [\n",
    "        {'type': 'eq', 'fun': equality_constraint},\n",
    "        {'type': 'ineq', 'fun': inequality_constraint}\n",
    "    ]\n",
    "    \n",
    "    # Perform the optimization with increased iteration limit\n",
    "    result = minimize(\n",
    "        objective, \n",
    "        initial_guess, \n",
    "        method='SLSQP', \n",
    "        bounds=bounds, \n",
    "        constraints=constraints,\n",
    "        options={'maxiter': max_iter, 'disp': True}\n",
    "    )\n",
    "    \n",
    "    # Print debugging information\n",
    "    print(\"Optimization Result:\", result)\n",
    "    \n",
    "    if result.success:\n",
    "        optimized_proportions = result.x\n",
    "        optimized_sum_of_squares = -result.fun  # Since we minimized the negative sum of squares\n",
    "        return optimized_proportions, optimized_sum_of_squares\n",
    "    else:\n",
    "        raise ValueError(\"Optimization failed: \" + result.message)\n",
    "\n",
    "# Initial proportions and budget for debugging\n",
    "initial_proportions = [0.12961595, 0.08013294, 0.15435746, 0.30206795, 0.15731167, 0.11004431, 0.06646972]\n",
    "budget = 0.2\n",
    "\n",
    "# Run the optimization\n",
    "try:\n",
    "    optimized_proportions, optimized_sum_of_squares = optimize_proportions(initial_proportions, budget)\n",
    "    print(\"Optimized Proportions:\", optimized_proportions)\n",
    "    print(\"Optimized Sum of Squares:\", optimized_sum_of_squares)\n",
    "except ValueError as e:\n",
    "    print(e)\n",
    "\n",
    "\n",
    "def convert_labels(initial_labels, initial_proportions, optimized_proportions):\n",
    "    n = len(initial_proportions)\n",
    "    num_nodes = len(initial_labels)\n",
    "    \n",
    "    # Calculate the total number of nodes for each label\n",
    "    initial_counts = np.array([np.sum(np.array(initial_labels) == i) for i in range(n)])\n",
    "    optimized_counts = np.round(num_nodes * optimized_proportions).astype(int)\n",
    "    \n",
    "    # Adjust counts to make sure the total number of nodes remains the same\n",
    "    difference = num_nodes - np.sum(optimized_counts)\n",
    "    if difference > 0:\n",
    "        # If the sum of optimized counts is less, add the difference to the largest proportion\n",
    "        max_index = np.argmax(optimized_counts)\n",
    "        optimized_counts[max_index] += difference\n",
    "    elif difference < 0:\n",
    "        # If the sum of optimized counts is more, subtract the difference from the largest proportion\n",
    "        max_index = np.argmax(optimized_counts)\n",
    "        optimized_counts[max_index] += difference\n",
    "    \n",
    "    # Find out how many nodes need to be moved from each label\n",
    "    changes = optimized_counts - initial_counts\n",
    "    \n",
    "    # Initialize the new labels array\n",
    "    new_labels = np.array(initial_labels)\n",
    "    \n",
    "    # Indices of nodes for each label\n",
    "    label_indices = [np.where(np.array(initial_labels) == i)[0] for i in range(n)]\n",
    "    \n",
    "    for i in range(n):\n",
    "        if changes[i] < 0:\n",
    "            # If the count is negative, we need to move nodes out of this label\n",
    "            excess_indices = label_indices[i][:abs(changes[i])]\n",
    "            for j in range(n):\n",
    "                if changes[j] > 0:\n",
    "                    # Move nodes to labels with positive changes\n",
    "                    num_to_move = min(abs(changes[i]), changes[j])\n",
    "                    new_labels[excess_indices[:num_to_move]] = j\n",
    "                    excess_indices = excess_indices[num_to_move:]\n",
    "                    changes[j] -= num_to_move\n",
    "                    if len(excess_indices) == 0:\n",
    "                        break\n",
    "            changes[i] = 0\n",
    "    \n",
    "    return new_labels\n",
    "\n",
    "# Example usage\n",
    "initial_labels = data.y\n",
    "initial_proportions = alpha_c\n",
    "budget = 0.3\n",
    "\n",
    "optimized_proportions, _ = optimize_proportions(initial_proportions, budget)\n",
    "new_labels = convert_labels(initial_labels, initial_proportions, optimized_proportions)\n",
    "\n",
    "print(\"Initial Labels:\", np.array(initial_labels))\n",
    "print(\"Optimized Proportions:\", np.array(optimized_proportions))\n",
    "print(\"New Labels:\", new_labels)\n"
   ]
  },
  {
   "cell_type": "code",
   "execution_count": 20,
   "metadata": {},
   "outputs": [
    {
     "data": {
      "text/plain": [
       "(array([0, 1, 2, 3, 4, 5]), array([ 351,  126,  418, 1089,  426,  298]))"
      ]
     },
     "execution_count": 20,
     "metadata": {},
     "output_type": "execute_result"
    }
   ],
   "source": []
  },
  {
   "cell_type": "code",
   "execution_count": 29,
   "metadata": {},
   "outputs": [
    {
     "name": "stdout",
     "output_type": "stream",
     "text": [
      "Initial Labels: [3 4 4 ... 3 3 3]\n",
      "Optimized Proportions: [1.29615814e-01 4.66028307e-02 1.54357399e-01 4.02068893e-01\n",
      " 1.57310764e-01 1.10044299e-01 9.37894406e-18]\n",
      "New Labels: [3 4 4 ... 3 3 3]\n",
      "Initial Labels: [3 4 4 ... 3 3 3]\n",
      "(array([0, 1, 2, 3, 4, 5, 6]), array([351, 217, 418, 818, 426, 298, 180]))\n"
     ]
    }
   ],
   "source": [
    "print(\"Initial Labels:\", np.array(initial_labels))\n",
    "print(\"Optimized Proportions:\", np.array(optimized_proportions))\n",
    "print(\"New Labels:\", new_labels)\n",
    "print(\"Initial Labels:\", np.array(initial_labels))\n",
    "\n",
    "print(np.unique(initial_labels, return_counts=True))"
   ]
  },
  {
   "cell_type": "code",
   "execution_count": 28,
   "metadata": {},
   "outputs": [
    {
     "data": {
      "text/plain": [
       "(array([0, 1, 2, 3, 4, 5]), array([ 351,  126,  418, 1089,  426,  298]))"
      ]
     },
     "execution_count": 28,
     "metadata": {},
     "output_type": "execute_result"
    }
   ],
   "source": [
    "np.unique(new_labels, return_counts=True)"
   ]
  },
  {
   "cell_type": "code",
   "execution_count": 27,
   "metadata": {},
   "outputs": [
    {
     "data": {
      "text/plain": [
       "array([0.13 , 0.08 , 0.154, 0.302, 0.157, 0.11 , 0.066])"
      ]
     },
     "execution_count": 27,
     "metadata": {},
     "output_type": "execute_result"
    }
   ],
   "source": [
    "initial_proportions.round(3)"
   ]
  },
  {
   "cell_type": "code",
   "execution_count": 26,
   "metadata": {},
   "outputs": [
    {
     "data": {
      "text/plain": [
       "array([0.13 , 0.047, 0.154, 0.402, 0.157, 0.11 , 0.   ])"
      ]
     },
     "execution_count": 26,
     "metadata": {},
     "output_type": "execute_result"
    }
   ],
   "source": [
    "optimized_proportions.round(3)"
   ]
  },
  {
   "cell_type": "code",
   "execution_count": 34,
   "metadata": {},
   "outputs": [
    {
     "data": {
      "text/plain": [
       "271"
      ]
     },
     "execution_count": 34,
     "metadata": {},
     "output_type": "execute_result"
    }
   ],
   "source": [
    "np.sum(new_labels != initial_labels.numpy())"
   ]
  },
  {
   "cell_type": "code",
   "execution_count": 47,
   "metadata": {},
   "outputs": [
    {
     "name": "stdout",
     "output_type": "stream",
     "text": [
      "Optimization terminated successfully    (Exit mode 0)\n",
      "            Current function value: -0.4185013060521942\n",
      "            Iterations: 28\n",
      "            Function evaluations: 302\n",
      "            Gradient evaluations: 27\n",
      "Optimization Result:      fun: -0.4185013060521942\n",
      "     jac: array([-1.72523271e-01, -1.49011612e-08, -3.08714963e-01, -1.20413847e+00,\n",
      "       -3.14623352e-01, -1.49011612e-08, -1.49011612e-08])\n",
      " message: 'Optimization terminated successfully'\n",
      "    nfev: 302\n",
      "     nit: 28\n",
      "    njev: 27\n",
      "  status: 0\n",
      " success: True\n",
      "       x: array([8.62619626e-02, 5.17817320e-12, 1.54357438e-01, 6.02068934e-01,\n",
      "       1.57311666e-01, 1.67210469e-14, 3.48157125e-12])\n",
      "Optimized Proportions: [8.62619626e-02 5.17817320e-12 1.54357438e-01 6.02068934e-01\n",
      " 1.57311666e-01 1.67210469e-14 3.48157125e-12]\n",
      "Optimized Sum of Squares: 0.4185013060521942\n"
     ]
    }
   ],
   "source": []
  },
  {
   "cell_type": "code",
   "execution_count": null,
   "metadata": {},
   "outputs": [],
   "source": []
  },
  {
   "cell_type": "code",
   "execution_count": 33,
   "metadata": {},
   "outputs": [],
   "source": [
    "import numpy as np\n",
    "import random\n",
    "from scipy.optimize import minimize\n",
    "\n",
    "def optimize_proportions(initial_proportions, budget, max_iter=1000):\n",
    "    n = len(initial_proportions)\n",
    "    \n",
    "    # Objective function (negative sum of squares)\n",
    "    def objective(alpha):\n",
    "        return -np.sum(alpha**2)\n",
    "    \n",
    "    # Equality constraint: sum of proportions must equal 1\n",
    "    def equality_constraint(alpha):\n",
    "        return np.sum(alpha) - 1\n",
    "    \n",
    "    # Inequality constraint: sum of negative changes must be within budget\n",
    "    def inequality_constraint(alpha):\n",
    "        return budget - np.sum(np.maximum(0, initial_proportions - alpha))\n",
    "    \n",
    "    # Non-negativity constraint\n",
    "    bounds = [(0, None) for _ in range(n)]\n",
    "    \n",
    "    # Initial guess (starting point)\n",
    "    initial_guess = np.array(initial_proportions)\n",
    "    \n",
    "    # Define constraints in the form required by `scipy.optimize.minimize`\n",
    "    constraints = [\n",
    "        {'type': 'eq', 'fun': equality_constraint},\n",
    "        {'type': 'ineq', 'fun': inequality_constraint}\n",
    "    ]\n",
    "    \n",
    "    # Perform the optimization with increased iteration limit\n",
    "    result = minimize(\n",
    "        objective, \n",
    "        initial_guess, \n",
    "        method='SLSQP', \n",
    "        bounds=bounds, \n",
    "        constraints=constraints,\n",
    "        options={'maxiter': max_iter, 'disp': True}\n",
    "    )\n",
    "    \n",
    "    # Print debugging information\n",
    "    print(\"Optimization Result:\", result)\n",
    "    \n",
    "    if result.success:\n",
    "        optimized_proportions = result.x\n",
    "        optimized_sum_of_squares = -result.fun  # Since we minimized the negative sum of squares\n",
    "        return optimized_proportions, optimized_sum_of_squares\n",
    "    else:\n",
    "        raise ValueError(\"Optimization failed: \" + result.message)\n",
    "\n",
    "\n",
    "import numpy as np\n",
    "from collections import Counter\n",
    "\n",
    "def balance_labels(current_labels, optimized_proportions):\n",
    "    \"\"\"\n",
    "    Implement the BalanceLabels algorithm to redistribute labels based on optimized proportions.\n",
    "    \n",
    "    Args:\n",
    "    current_labels (np.array): Current labels of nodes\n",
    "    optimized_proportions (np.array): Optimized proportions for each label\n",
    "    \n",
    "    Returns:\n",
    "    np.array: New labels after redistribution\n",
    "    \"\"\"\n",
    "    total_nodes = len(current_labels)\n",
    "    \n",
    "    # Convert proportions to rounded counts\n",
    "    optimized_counts = proportions_to_rounded_counts(optimized_proportions, total_nodes)\n",
    "    \n",
    "    # Count current labels using NumPy\n",
    "    unique_labels, label_counts = np.unique(current_labels, return_counts=True)\n",
    "    label_counts = dict(zip(unique_labels, label_counts))\n",
    "    \n",
    "    # Calculate in and out for each label\n",
    "    label_changes = {}\n",
    "    for i, label in enumerate(unique_labels):\n",
    "        current_count = label_counts.get(label, 0)\n",
    "        optimized_count = optimized_counts[i]\n",
    "        difference = optimized_count - current_count\n",
    "        label_changes[label] = {\"in\": max(0, difference), \"out\": max(0, -difference)}\n",
    "    \n",
    "    # Create a list of labels sorted by 'in' count (descending)\n",
    "    labels_needing_nodes = sorted(label_changes.keys(), key=lambda x: label_changes[x]['in'], reverse=True)\n",
    "    \n",
    "    # Keep track of flipped nodes\n",
    "    flipped_nodes = set()\n",
    "    new_labels = current_labels.copy()\n",
    "    \n",
    "    # Iterate over labels needing nodes\n",
    "    for target_label in labels_needing_nodes:\n",
    "        nodes_needed = label_changes[target_label]['in']\n",
    "        if nodes_needed == 0:\n",
    "            continue\n",
    "        \n",
    "        # Iterate over labels with excess nodes\n",
    "        for source_label in label_changes.keys():\n",
    "            if source_label == target_label:\n",
    "                continue\n",
    "            nodes_available = label_changes[source_label]['out']\n",
    "            if nodes_available == 0:\n",
    "                continue\n",
    "            \n",
    "            # Determine number of nodes to flip\n",
    "            nodes_to_flip = min(nodes_needed, nodes_available)\n",
    "            \n",
    "            # Find eligible nodes to flip\n",
    "            eligible_nodes = [i for i, label in enumerate(new_labels) \n",
    "                              if label == source_label and i not in flipped_nodes]\n",
    "            nodes_to_flip = min(nodes_to_flip, len(eligible_nodes))\n",
    "            \n",
    "            # Flip the labels\n",
    "            for node in random.sample(eligible_nodes, nodes_to_flip):\n",
    "                new_labels[node] = target_label\n",
    "                flipped_nodes.add(node)\n",
    "            \n",
    "            # Update counts\n",
    "            label_changes[target_label]['in'] -= nodes_to_flip\n",
    "            label_changes[source_label]['out'] -= nodes_to_flip\n",
    "            \n",
    "            nodes_needed -= nodes_to_flip\n",
    "            if nodes_needed == 0:\n",
    "                break\n",
    "    \n",
    "    return new_labels\n",
    "\n",
    "def proportions_to_rounded_counts(proportions, total_nodes):\n",
    "    \"\"\"\n",
    "    Convert proportions to rounded counts while ensuring the total sum equals total_nodes.\n",
    "    \n",
    "    Args:\n",
    "    proportions (np.array): A NumPy array of label proportions\n",
    "    total_nodes (int): The total number of nodes in the graph\n",
    "    \n",
    "    Returns:\n",
    "    np.array: An array of integer counts that sum to total_nodes\n",
    "    \"\"\"\n",
    "    raw_counts = proportions * total_nodes\n",
    "    rounded_counts = np.floor(raw_counts).astype(int)\n",
    "    difference = total_nodes - np.sum(rounded_counts)\n",
    "    sorted_indices = np.argsort(raw_counts - np.floor(raw_counts))[::-1]\n",
    "    \n",
    "    for i in range(int(difference)):\n",
    "        rounded_counts[sorted_indices[i % len(sorted_indices)]] += 1\n",
    "    \n",
    "    return rounded_counts\n",
    "\n"
   ]
  },
  {
   "cell_type": "code",
   "execution_count": 27,
   "metadata": {},
   "outputs": [
    {
     "name": "stdout",
     "output_type": "stream",
     "text": [
      "Optimization terminated successfully    (Exit mode 0)\n",
      "            Current function value: -0.24131410970168074\n",
      "            Iterations: 34\n",
      "            Function evaluations: 326\n",
      "            Gradient evaluations: 34\n",
      "Optimization Result:      fun: -0.24131410970168074\n",
      "     jac: array([-2.59231504e-01, -9.32059586e-02, -3.08714814e-01, -8.04137828e-01,\n",
      "       -3.14621560e-01, -2.20088420e-01, -1.49011612e-08])\n",
      " message: 'Optimization terminated successfully'\n",
      "    nfev: 326\n",
      "     nit: 34\n",
      "    njev: 34\n",
      "  status: 0\n",
      " success: True\n",
      "       x: array([1.29615811e-01, 4.66028341e-02, 1.54357400e-01, 4.02068895e-01,\n",
      "       1.57310766e-01, 1.10044294e-01, 4.77652364e-16])\n",
      "Optimized Proportions: [1.29615811e-01 4.66028341e-02 1.54357400e-01 4.02068895e-01\n",
      " 1.57310766e-01 1.10044294e-01 4.77652364e-16]\n",
      "Optimized Sum of Squares: 0.24131410970168074\n",
      "Original labels: [3, 4, 4, 0, 3, 2, 0, 3, 3, 2, 0, 0, 4, 3, 3, 3, 2, 3, 1, 3, 5, 3, 4, 6, 3, 3, 6, 3, 2, 4, 3, 6, 0, 4, 2, 0, 1, 5, 4, 4, 3, 6, 6, 4, 3, 3, 2, 5, 3, 4, 5, 3, 0, 2, 1, 4, 6, 3, 2, 2, 0, 0, 0, 4, 2, 0, 4, 5, 2, 6, 5, 2, 2, 2, 0, 4, 5, 6, 4, 0, 0, 0, 4, 2, 4, 1, 4, 6, 0, 4, 2, 4, 6, 6, 0, 0, 6, 5, 0, 6, 0, 2, 1, 1, 1, 2, 6, 5, 6, 1, 2, 2, 1, 5, 5, 5, 6, 5, 6, 5, 5, 1, 6, 6, 1, 5, 1, 6, 5, 5, 5, 1, 5, 1, 1, 1, 1, 1, 1, 1, 4, 3, 0, 3, 6, 6, 0, 3, 4, 0, 3, 4, 4, 1, 2, 2, 2, 3, 3, 3, 3, 0, 4, 5, 0, 3, 4, 3, 3, 3, 2, 3, 3, 2, 2, 6, 1, 4, 3, 3, 3, 6, 3, 3, 3, 3, 0, 4, 2, 2, 6, 5, 3, 5, 4, 0, 4, 3, 4, 4, 3, 3, 2, 4, 0, 3, 2, 3, 3, 4, 4, 0, 3, 6, 0, 3, 3, 4, 3, 3, 5, 2, 3, 2, 4, 1, 3, 2, 2, 3, 3, 3, 3, 5, 1, 3, 1, 3, 5, 0, 3, 5, 0, 4, 2, 4, 2, 4, 4, 5, 4, 3, 5, 3, 3, 4, 3, 0, 4, 5, 0, 3, 6, 2, 5, 5, 5, 3, 2, 3, 0, 4, 5, 3, 0, 4, 0, 3, 3, 0, 0, 3, 5, 4, 4, 3, 4, 3, 3, 2, 2, 3, 0, 3, 1, 3, 2, 3, 3, 4, 5, 2, 1, 1, 0, 0, 1, 6, 1, 3, 3, 3, 2, 3, 3, 0, 3, 4, 1, 3, 4, 3, 2, 0, 0, 4, 2, 3, 2, 1, 4, 6, 3, 2, 0, 3, 3, 2, 3, 4, 4, 2, 1, 3, 5, 3, 2, 0, 4, 5, 1, 3, 3, 2, 0, 2, 4, 2, 2, 2, 5, 4, 4, 2, 2, 0, 3, 2, 4, 4, 5, 5, 1, 0, 3, 4, 5, 3, 4, 5, 3, 4, 3, 3, 1, 4, 3, 3, 5, 2, 3, 2, 5, 5, 4, 3, 3, 3, 3, 1, 5, 3, 3, 2, 6, 0, 1, 3, 0, 1, 5, 3, 6, 3, 6, 0, 3, 3, 3, 5, 4, 3, 4, 0, 5, 2, 1, 2, 4, 4, 4, 4, 3, 3, 0, 4, 3, 0, 5, 2, 0, 5, 4, 4, 4, 3, 0, 6, 5, 2, 4, 5, 1, 3, 5, 3, 0, 3, 5, 1, 1, 0, 3, 4, 2, 6, 2, 0, 5, 3, 4, 6, 5, 3, 5, 0, 1, 3, 0, 5, 2, 2, 3, 5, 1, 0, 3, 1, 4, 2, 5, 6, 4, 2, 2, 6, 0, 0, 4, 6, 3, 2, 0, 3, 6, 1, 6, 3, 1, 3, 3, 3, 3, 2, 5, 4, 5, 5, 3, 1, 3, 3, 4, 4, 2, 0, 2, 0, 5, 4, 0, 0, 3, 2, 2, 2, 2, 6, 4, 6, 5, 5, 1, 0, 0, 4, 3, 3, 1, 3, 6, 6, 2, 3, 3, 3, 1, 2, 2, 5, 4, 3, 2, 1, 2, 2, 3, 2, 3, 2, 3, 3, 0, 5, 3, 3, 3, 4, 5, 3, 2, 1, 4, 4, 4, 4, 0, 5, 4, 1, 3, 0, 3, 4, 6, 3, 6, 3, 3, 3, 6, 3, 4, 3, 6, 3, 0, 3, 1, 2, 5, 6, 5, 2, 0, 2, 2, 3, 3, 0, 3, 5, 3, 4, 0, 3, 2, 4, 5, 2, 3, 2, 2, 3, 5, 2, 0, 3, 4, 3, 3, 3, 0, 5, 5, 5, 5, 5, 5, 3, 2, 0, 4, 3, 4, 1, 1, 2, 3, 0, 1, 5, 3, 6, 3, 4, 0, 0, 5, 3, 3, 5, 2, 3, 3, 4, 5, 4, 3, 0, 0, 3, 6, 1, 2, 1, 2, 2, 4, 2, 3, 4, 3, 0, 5, 3, 3, 3, 4, 3, 3, 5, 6, 5, 2, 4, 4, 0, 3, 5, 3, 0, 6, 3, 4, 4, 3, 0, 0, 1, 5, 2, 3, 2, 6, 0, 4, 3, 5, 3, 0, 0, 2, 0, 0, 5, 0, 5, 0, 5, 4, 1, 2, 3, 2, 3, 3, 5, 2, 4, 5, 0, 2, 0, 2, 5, 3, 2, 2, 4, 2, 4, 2, 0, 2, 3, 3, 0, 3, 0, 3, 0, 6, 1, 4, 3, 4, 0, 6, 6, 4, 3, 4, 4, 3, 3, 4, 4, 3, 4, 3, 3, 3, 5, 0, 3, 2, 2, 4, 3, 2, 5, 4, 5, 4, 4, 2, 5, 4, 0, 4, 3, 3, 4, 4, 0, 5, 2, 3, 2, 2, 3, 5, 2, 2, 2, 5, 3, 4, 1, 6, 1, 3, 3, 1, 3, 3, 4, 0, 0, 5, 3, 0, 3, 5, 3, 3, 6, 2, 4, 6, 0, 0, 2, 4, 3, 4, 4, 0, 2, 2, 0, 4, 0, 1, 3, 3, 2, 3, 3, 3, 2, 4, 0, 3, 3, 1, 3, 5, 3, 0, 2, 2, 2, 4, 5, 3, 1, 0, 2, 5, 6, 3, 4, 3, 0, 5, 0, 6, 3, 3, 0, 2, 5, 5, 2, 4, 6, 6, 3, 1, 4, 4, 5, 3, 2, 3, 0, 3, 2, 3, 6, 4, 3, 4, 5, 3, 3, 3, 2, 3, 2, 3, 2, 4, 5, 2, 1, 3, 6, 5, 5, 3, 4, 3, 1, 4, 4, 0, 4, 6, 2, 3, 3, 4, 6, 4, 2, 1, 3, 3, 3, 3, 4, 0, 0, 0, 3, 1, 2, 2, 5, 3, 5, 3, 0, 2, 2, 2, 3, 1, 3, 3, 4, 4, 2, 3, 3, 3, 0, 3, 6, 0, 6, 3, 5, 4, 3, 2, 2, 3, 4, 3, 2, 3, 3, 0, 2, 0, 1, 4, 1, 4, 0, 3, 4, 3, 3, 4, 3, 3, 4, 5, 3, 3, 0, 3, 6, 5, 5, 2, 3, 5, 2, 2, 2, 0, 2, 2, 5, 2, 2, 0, 5, 3, 1, 4, 0, 3, 3, 4, 4, 3, 3, 3, 3, 3, 3, 0, 3, 5, 4, 3, 4, 4, 3, 3, 2, 4, 0, 2, 4, 2, 3, 6, 3, 6, 5, 0, 0, 3, 4, 4, 0, 3, 6, 3, 4, 1, 1, 3, 3, 3, 3, 4, 3, 3, 4, 3, 3, 3, 3, 4, 2, 0, 5, 3, 3, 3, 4, 0, 4, 4, 5, 2, 4, 3, 0, 0, 3, 0, 3, 5, 2, 3, 0, 3, 3, 5, 4, 3, 3, 3, 5, 3, 4, 2, 0, 4, 0, 1, 4, 1, 4, 1, 2, 1, 3, 2, 2, 2, 3, 0, 4, 2, 2, 0, 4, 1, 3, 3, 2, 4, 6, 2, 6, 3, 5, 5, 2, 6, 3, 0, 2, 0, 3, 3, 3, 4, 5, 1, 5, 5, 5, 5, 3, 3, 0, 0, 2, 5, 3, 3, 1, 4, 0, 4, 1, 0, 2, 3, 3, 4, 0, 1, 2, 4, 4, 4, 2, 2, 3, 3, 3, 2, 6, 2, 3, 0, 3, 0, 3, 5, 3, 0, 3, 5, 5, 0, 2, 4, 3, 0, 2, 4, 4, 6, 5, 2, 3, 4, 3, 3, 2, 1, 1, 4, 3, 1, 2, 2, 1, 2, 1, 2, 4, 3, 4, 1, 0, 4, 4, 2, 2, 4, 4, 4, 5, 0, 5, 3, 3, 3, 3, 3, 0, 5, 3, 3, 0, 2, 2, 2, 1, 2, 0, 4, 2, 6, 3, 3, 6, 2, 0, 3, 3, 0, 3, 3, 3, 3, 3, 0, 3, 1, 2, 2, 4, 2, 5, 3, 5, 5, 5, 5, 3, 3, 2, 4, 3, 4, 3, 4, 3, 5, 3, 3, 6, 6, 3, 0, 3, 0, 6, 3, 1, 4, 1, 5, 2, 3, 0, 4, 4, 3, 2, 1, 3, 3, 4, 4, 6, 0, 5, 5, 3, 3, 0, 2, 6, 5, 2, 6, 3, 3, 3, 4, 1, 5, 4, 6, 3, 6, 2, 0, 5, 0, 5, 2, 4, 4, 4, 3, 2, 2, 4, 3, 6, 0, 2, 4, 0, 3, 3, 5, 0, 6, 0, 2, 6, 3, 4, 6, 3, 5, 3, 4, 2, 5, 5, 0, 3, 2, 3, 5, 5, 0, 4, 4, 4, 6, 6, 4, 3, 3, 4, 2, 2, 4, 4, 2, 2, 3, 2, 3, 0, 5, 4, 3, 3, 3, 5, 3, 4, 2, 3, 3, 3, 1, 4, 3, 4, 4, 3, 4, 5, 3, 3, 3, 1, 3, 4, 3, 3, 6, 3, 2, 0, 0, 3, 5, 2, 3, 3, 4, 0, 6, 3, 5, 3, 2, 4, 6, 2, 4, 6, 2, 6, 3, 2, 1, 4, 2, 4, 5, 6, 3, 3, 3, 2, 5, 6, 3, 3, 6, 1, 2, 0, 3, 2, 4, 3, 5, 2, 3, 0, 2, 0, 4, 4, 2, 0, 4, 0, 0, 6, 0, 0, 2, 4, 4, 4, 4, 4, 4, 0, 0, 5, 5, 6, 0, 3, 3, 5, 5, 4, 2, 1, 3, 5, 2, 1, 1, 5, 3, 5, 0, 2, 3, 4, 1, 1, 2, 3, 1, 2, 2, 3, 2, 4, 3, 1, 1, 3, 3, 3, 3, 3, 5, 5, 0, 3, 3, 0, 1, 4, 2, 6, 0, 2, 3, 3, 6, 6, 5, 3, 2, 3, 3, 2, 3, 2, 0, 3, 2, 3, 2, 3, 3, 1, 2, 3, 2, 3, 3, 3, 6, 2, 4, 5, 1, 3, 3, 1, 1, 2, 4, 2, 0, 2, 5, 0, 2, 3, 4, 4, 3, 0, 1, 4, 1, 3, 2, 4, 0, 3, 2, 6, 2, 4, 5, 1, 0, 4, 3, 0, 1, 3, 0, 2, 6, 5, 3, 3, 3, 3, 3, 4, 2, 0, 1, 4, 0, 3, 6, 6, 6, 5, 3, 3, 0, 3, 0, 6, 3, 2, 4, 2, 4, 2, 5, 3, 3, 0, 2, 0, 0, 3, 6, 1, 5, 3, 4, 4, 3, 1, 2, 5, 3, 2, 2, 2, 2, 0, 2, 2, 2, 2, 2, 2, 2, 2, 2, 2, 2, 2, 2, 2, 3, 2, 2, 2, 2, 2, 2, 1, 2, 2, 2, 2, 2, 3, 2, 2, 2, 2, 2, 2, 2, 2, 2, 2, 2, 2, 2, 2, 2, 2, 2, 2, 2, 2, 2, 2, 5, 2, 2, 1, 1, 1, 1, 1, 1, 1, 4, 1, 1, 1, 1, 1, 1, 1, 1, 1, 1, 4, 1, 1, 1, 1, 1, 1, 3, 4, 4, 4, 4, 1, 1, 3, 1, 0, 3, 0, 2, 1, 3, 3, 3, 3, 3, 3, 3, 3, 3, 3, 3, 3, 3, 3, 3, 3, 3, 3, 5, 5, 5, 5, 5, 5, 2, 2, 2, 2, 1, 6, 6, 3, 0, 0, 5, 0, 5, 0, 3, 5, 3, 0, 0, 6, 0, 6, 3, 3, 1, 3, 1, 3, 3, 3, 3, 3, 3, 3, 3, 3, 3, 3, 3, 3, 3, 3, 3, 3, 3, 3, 3, 3, 5, 5, 5, 5, 5, 5, 5, 5, 2, 2, 2, 4, 4, 4, 0, 3, 3, 2, 5, 5, 5, 5, 6, 5, 5, 5, 5, 0, 4, 4, 4, 0, 0, 5, 0, 0, 6, 6, 6, 6, 6, 6, 0, 0, 0, 0, 3, 0, 0, 0, 3, 3, 0, 3, 3, 3, 3, 3, 3, 3, 3, 3, 3, 3, 3, 3, 3, 3, 3, 3, 3, 3, 3, 3, 3, 5, 5, 5, 5, 3, 5, 5, 5, 5, 5, 5, 4, 4, 4, 4, 4, 4, 4, 4, 6, 6, 5, 6, 6, 3, 5, 5, 5, 0, 5, 0, 4, 4, 3, 3, 3, 2, 2, 1, 3, 3, 3, 3, 3, 3, 5, 3, 3, 4, 4, 3, 3, 3, 3, 3, 3, 3, 0, 3, 3, 6, 3, 6, 0, 5, 0, 0, 4, 0, 6, 5, 5, 0, 1, 3, 3, 5, 6, 5, 3, 3, 4, 3, 3, 3, 3, 3, 4, 3, 3, 4, 3, 1, 1, 0, 1, 0, 6, 0, 0, 0, 0, 0, 0, 0, 5, 0, 5, 5, 5, 3, 3, 3, 3, 3, 0, 0, 0, 2, 0, 0, 0, 3, 3, 3, 3, 1, 1, 1, 1, 2, 1, 1, 1, 1, 1, 0, 1, 3, 1, 1, 1, 1, 1, 0, 0, 0, 5, 5, 5, 5, 3, 5, 1, 1, 3, 6, 6, 5, 6, 2, 3, 3, 0, 3, 3, 3, 4, 4, 4, 4, 3, 3, 3, 4, 3, 3, 4, 0, 6, 0, 6, 6, 0, 0, 3, 3, 3, 3, 3, 1, 1, 1, 3, 3, 3, 3, 5, 6, 3, 4, 6, 0, 0, 6, 6, 6, 6, 6, 3, 3, 6, 6, 5, 2, 1, 2, 1, 0, 0, 6, 6, 2, 3, 3, 5, 0, 0, 0, 0, 0, 5, 5, 0, 3, 5, 0, 6, 3, 6, 0, 0, 0, 0, 0, 0, 0, 0, 0, 0, 0, 3, 3, 3, 3, 1, 6, 1, 0, 3, 3, 3, 3, 3, 6, 1, 0, 2, 2, 4, 4, 4, 4, 4, 5, 6, 3, 3, 0, 0, 0, 0, 5, 4, 4, 4, 4, 4, 3, 3, 3, 3, 3, 0, 3, 4, 4, 4, 1, 1, 3, 1, 1, 5, 1, 3, 4, 4, 4, 4, 4, 4, 4, 0, 0, 0, 5, 5, 5, 5, 5, 0, 5, 3, 0, 6, 2, 0, 5, 3, 3, 5, 5, 5, 5, 5, 4, 4, 0, 4, 0, 4, 0, 3, 4, 4, 4, 1, 3, 3, 3, 3, 3, 4, 2, 3, 3, 3, 0, 0, 2, 3, 3, 3, 3, 1, 1, 3, 0, 1, 4, 1, 1, 1, 1, 1, 1, 0, 1, 0, 0, 2, 4, 4, 4, 3, 3, 3, 4, 0, 3, 3, 3, 3, 0, 3, 3, 4, 4, 4, 4, 4, 4, 0, 4, 3, 2, 0, 3, 4, 5, 0, 2, 2, 3, 3, 3, 3, 3, 2, 3, 5, 5, 4, 1, 4, 4, 4, 3, 4, 4, 0, 4, 4, 4, 5, 2, 2, 2, 2, 4, 6, 6, 6, 6, 3, 4, 4, 4, 1, 3, 0, 3, 3, 5, 0, 2, 3, 3, 3, 3, 3, 2, 4, 4, 0, 0, 3, 2, 6, 6, 0, 3, 3, 3, 5, 1, 3, 4, 4, 2, 4, 4, 4, 3, 3, 2, 2, 2, 2, 2, 2, 2, 2, 2, 2, 0, 2, 2, 2, 0, 6, 6, 5, 6, 6, 3, 2, 6, 3, 4, 4, 4, 2, 6, 6, 0, 0, 3, 0, 4, 4, 3, 2, 3, 1, 6, 6, 5, 3, 4, 3, 5, 3, 1, 1, 3, 4, 5, 2, 3, 3, 3, 4, 5, 4, 0, 3, 3, 0, 2, 1, 1, 5, 2, 3, 3, 5, 0, 2, 3, 2, 2, 5, 5, 4, 3, 4, 3, 2, 2, 4, 2, 4, 5, 5, 3, 2, 3, 1, 0, 3, 3, 4, 5, 4, 3, 3, 3, 3, 3, 0, 1, 2, 4, 4, 4, 3, 3, 3, 5, 2, 3, 2, 2, 2, 3, 2, 2, 0, 4, 4, 3, 3, 3, 3, 3, 3, 3, 3, 3, 3, 0, 0, 3, 0, 3, 0, 2, 3, 4, 1, 2, 5, 4, 3, 3, 3, 1, 5, 3, 4, 3, 2, 2, 1, 3, 3, 3, 3, 3, 6, 3, 3, 3, 6, 3, 3, 3, 2, 3, 2, 4, 2, 4, 2, 2, 1, 5, 6, 4, 3, 3, 3, 2, 5, 3, 3, 4, 3, 3, 3, 3, 3, 4, 6, 0, 3, 2, 2, 2, 5, 4, 4, 4, 4, 6, 3, 2, 2, 0, 2, 2, 2, 2, 2, 3, 4, 4, 4, 3, 3, 4, 4, 3, 3, 3, 4, 4, 4, 4, 4, 4, 3, 4, 4, 4, 4, 4, 4, 4, 4, 2, 3, 3, 3, 2, 6, 2, 3, 3, 4, 4, 3, 3, 3, 3, 3, 3, 0, 3, 3, 3, 3, 3]\n",
      "New labels:      [3, 4, 4, 0, 3, 2, 0, 3, 3, 2, 0, 0, 4, 3, 3, 3, 2, 3, 1, 3, 5, 3, 4, 3, 3, 3, 3, 3, 2, 4, 3, 3, 0, 4, 2, 0, 3, 5, 4, 4, 3, 3, 3, 4, 3, 3, 2, 5, 3, 4, 5, 3, 0, 2, 1, 4, 3, 3, 2, 2, 0, 0, 0, 4, 2, 0, 4, 5, 2, 3, 5, 2, 2, 2, 0, 4, 5, 3, 4, 0, 0, 0, 4, 2, 4, 1, 4, 3, 0, 4, 2, 4, 3, 3, 0, 0, 3, 5, 0, 3, 0, 2, 1, 1, 1, 2, 3, 5, 3, 3, 2, 2, 3, 5, 5, 5, 3, 5, 3, 5, 5, 1, 3, 3, 1, 5, 1, 3, 5, 5, 5, 1, 5, 1, 1, 1, 1, 3, 1, 1, 4, 3, 0, 3, 3, 3, 0, 3, 4, 0, 3, 4, 4, 3, 2, 2, 2, 3, 3, 3, 3, 0, 4, 5, 0, 3, 4, 3, 3, 3, 2, 3, 3, 2, 2, 3, 3, 4, 3, 3, 3, 3, 3, 3, 3, 3, 0, 4, 2, 2, 3, 5, 3, 5, 4, 0, 4, 3, 4, 4, 3, 3, 2, 4, 0, 3, 2, 3, 3, 4, 4, 0, 3, 3, 0, 3, 3, 4, 3, 3, 5, 2, 3, 2, 4, 1, 3, 2, 2, 3, 3, 3, 3, 5, 1, 3, 1, 3, 5, 0, 3, 5, 0, 4, 2, 4, 2, 4, 4, 5, 4, 3, 5, 3, 3, 4, 3, 0, 4, 5, 0, 3, 3, 2, 5, 5, 5, 3, 2, 3, 0, 4, 5, 3, 0, 4, 0, 3, 3, 0, 0, 3, 5, 4, 4, 3, 4, 3, 3, 2, 2, 3, 0, 3, 1, 3, 2, 3, 3, 4, 5, 2, 1, 1, 0, 0, 3, 3, 1, 3, 3, 3, 2, 3, 3, 0, 3, 4, 1, 3, 4, 3, 2, 0, 0, 4, 2, 3, 2, 3, 4, 3, 3, 2, 0, 3, 3, 2, 3, 4, 4, 2, 1, 3, 5, 3, 2, 0, 4, 5, 1, 3, 3, 2, 0, 2, 4, 2, 2, 2, 5, 4, 4, 2, 2, 0, 3, 2, 4, 4, 5, 5, 1, 0, 3, 4, 5, 3, 4, 5, 3, 4, 3, 3, 3, 4, 3, 3, 5, 2, 3, 2, 5, 5, 4, 3, 3, 3, 3, 3, 5, 3, 3, 2, 3, 0, 1, 3, 0, 1, 5, 3, 3, 3, 3, 0, 3, 3, 3, 5, 4, 3, 4, 0, 5, 2, 1, 2, 4, 4, 4, 4, 3, 3, 0, 4, 3, 0, 5, 2, 0, 5, 4, 4, 4, 3, 0, 3, 5, 2, 4, 5, 1, 3, 5, 3, 0, 3, 5, 3, 1, 0, 3, 4, 2, 3, 2, 0, 5, 3, 4, 3, 5, 3, 5, 0, 3, 3, 0, 5, 2, 2, 3, 5, 1, 0, 3, 3, 4, 2, 5, 3, 4, 2, 2, 3, 0, 0, 4, 3, 3, 2, 0, 3, 3, 1, 3, 3, 1, 3, 3, 3, 3, 2, 5, 4, 5, 5, 3, 3, 3, 3, 4, 4, 2, 0, 2, 0, 5, 4, 0, 0, 3, 2, 2, 2, 2, 3, 4, 3, 5, 5, 3, 0, 0, 4, 3, 3, 1, 3, 3, 3, 2, 3, 3, 3, 1, 2, 2, 5, 4, 3, 2, 1, 2, 2, 3, 2, 3, 2, 3, 3, 0, 5, 3, 3, 3, 4, 5, 3, 2, 3, 4, 4, 4, 4, 0, 5, 4, 3, 3, 0, 3, 4, 3, 3, 3, 3, 3, 3, 3, 3, 4, 3, 3, 3, 0, 3, 1, 2, 5, 3, 5, 2, 0, 2, 2, 3, 3, 0, 3, 5, 3, 4, 0, 3, 2, 4, 5, 2, 3, 2, 2, 3, 5, 2, 0, 3, 4, 3, 3, 3, 0, 5, 5, 5, 5, 5, 5, 3, 2, 0, 4, 3, 4, 1, 1, 2, 3, 0, 3, 5, 3, 3, 3, 4, 0, 0, 5, 3, 3, 5, 2, 3, 3, 4, 5, 4, 3, 0, 0, 3, 3, 1, 2, 1, 2, 2, 4, 2, 3, 4, 3, 0, 5, 3, 3, 3, 4, 3, 3, 5, 3, 5, 2, 4, 4, 0, 3, 5, 3, 0, 3, 3, 4, 4, 3, 0, 0, 1, 5, 2, 3, 2, 3, 0, 4, 3, 5, 3, 0, 0, 2, 0, 0, 5, 0, 5, 0, 5, 4, 1, 2, 3, 2, 3, 3, 5, 2, 4, 5, 0, 2, 0, 2, 5, 3, 2, 2, 4, 2, 4, 2, 0, 2, 3, 3, 0, 3, 0, 3, 0, 3, 3, 4, 3, 4, 0, 3, 3, 4, 3, 4, 4, 3, 3, 4, 4, 3, 4, 3, 3, 3, 5, 0, 3, 2, 2, 4, 3, 2, 5, 4, 5, 4, 4, 2, 5, 4, 0, 4, 3, 3, 4, 4, 0, 5, 2, 3, 2, 2, 3, 5, 2, 2, 2, 5, 3, 4, 1, 3, 1, 3, 3, 1, 3, 3, 4, 0, 0, 5, 3, 0, 3, 5, 3, 3, 3, 2, 4, 3, 0, 0, 2, 4, 3, 4, 4, 0, 2, 2, 0, 4, 0, 1, 3, 3, 2, 3, 3, 3, 2, 4, 0, 3, 3, 1, 3, 5, 3, 0, 2, 2, 2, 4, 5, 3, 1, 0, 2, 5, 3, 3, 4, 3, 0, 5, 0, 3, 3, 3, 0, 2, 5, 5, 2, 4, 3, 3, 3, 1, 4, 4, 5, 3, 2, 3, 0, 3, 2, 3, 3, 4, 3, 4, 5, 3, 3, 3, 2, 3, 2, 3, 2, 4, 5, 2, 1, 3, 3, 5, 5, 3, 4, 3, 1, 4, 4, 0, 4, 3, 2, 3, 3, 4, 3, 4, 2, 1, 3, 3, 3, 3, 4, 0, 0, 0, 3, 1, 2, 2, 5, 3, 5, 3, 0, 2, 2, 2, 3, 1, 3, 3, 4, 4, 2, 3, 3, 3, 0, 3, 3, 0, 3, 3, 5, 4, 3, 2, 2, 3, 4, 3, 2, 3, 3, 0, 2, 0, 1, 4, 1, 4, 0, 3, 4, 3, 3, 4, 3, 3, 4, 5, 3, 3, 0, 3, 3, 5, 5, 2, 3, 5, 2, 2, 2, 0, 2, 2, 5, 2, 2, 0, 5, 3, 3, 4, 0, 3, 3, 4, 4, 3, 3, 3, 3, 3, 3, 0, 3, 5, 4, 3, 4, 4, 3, 3, 2, 4, 0, 2, 4, 2, 3, 3, 3, 3, 5, 0, 0, 3, 4, 4, 0, 3, 3, 3, 4, 1, 3, 3, 3, 3, 3, 4, 3, 3, 4, 3, 3, 3, 3, 4, 2, 0, 5, 3, 3, 3, 4, 0, 4, 4, 5, 2, 4, 3, 0, 0, 3, 0, 3, 5, 2, 3, 0, 3, 3, 5, 4, 3, 3, 3, 5, 3, 4, 2, 0, 4, 0, 3, 4, 3, 4, 3, 2, 1, 3, 2, 2, 2, 3, 0, 4, 2, 2, 0, 4, 3, 3, 3, 2, 4, 3, 2, 3, 3, 5, 5, 2, 3, 3, 0, 2, 0, 3, 3, 3, 4, 5, 1, 5, 5, 5, 5, 3, 3, 0, 0, 2, 5, 3, 3, 1, 4, 0, 4, 3, 0, 2, 3, 3, 4, 0, 1, 2, 4, 4, 4, 2, 2, 3, 3, 3, 2, 3, 2, 3, 0, 3, 0, 3, 5, 3, 0, 3, 5, 5, 0, 2, 4, 3, 0, 2, 4, 4, 3, 5, 2, 3, 4, 3, 3, 2, 3, 1, 4, 3, 1, 2, 2, 3, 2, 1, 2, 4, 3, 4, 1, 0, 4, 4, 2, 2, 4, 4, 4, 5, 0, 5, 3, 3, 3, 3, 3, 0, 5, 3, 3, 0, 2, 2, 2, 1, 2, 0, 4, 2, 3, 3, 3, 3, 2, 0, 3, 3, 0, 3, 3, 3, 3, 3, 0, 3, 3, 2, 2, 4, 2, 5, 3, 5, 5, 5, 5, 3, 3, 2, 4, 3, 4, 3, 4, 3, 5, 3, 3, 3, 3, 3, 0, 3, 0, 3, 3, 1, 4, 1, 5, 2, 3, 0, 4, 4, 3, 2, 3, 3, 3, 4, 4, 3, 0, 5, 5, 3, 3, 0, 2, 3, 5, 2, 3, 3, 3, 3, 4, 1, 5, 4, 3, 3, 3, 2, 0, 5, 0, 5, 2, 4, 4, 4, 3, 2, 2, 4, 3, 3, 0, 2, 4, 0, 3, 3, 5, 0, 3, 0, 2, 3, 3, 4, 3, 3, 5, 3, 4, 2, 5, 5, 0, 3, 2, 3, 5, 5, 0, 4, 4, 4, 3, 3, 4, 3, 3, 4, 2, 2, 4, 4, 2, 2, 3, 2, 3, 0, 5, 4, 3, 3, 3, 5, 3, 4, 2, 3, 3, 3, 1, 4, 3, 4, 4, 3, 4, 5, 3, 3, 3, 3, 3, 4, 3, 3, 3, 3, 2, 0, 0, 3, 5, 2, 3, 3, 4, 0, 3, 3, 5, 3, 2, 4, 3, 2, 4, 3, 2, 3, 3, 2, 1, 4, 2, 4, 5, 3, 3, 3, 3, 2, 5, 3, 3, 3, 3, 1, 2, 0, 3, 2, 4, 3, 5, 2, 3, 0, 2, 0, 4, 4, 2, 0, 4, 0, 0, 3, 0, 0, 2, 4, 4, 4, 4, 4, 4, 0, 0, 5, 5, 3, 0, 3, 3, 5, 5, 4, 2, 3, 3, 5, 2, 1, 1, 5, 3, 5, 0, 2, 3, 4, 3, 3, 2, 3, 3, 2, 2, 3, 2, 4, 3, 3, 1, 3, 3, 3, 3, 3, 5, 5, 0, 3, 3, 0, 1, 4, 2, 3, 0, 2, 3, 3, 3, 3, 5, 3, 2, 3, 3, 2, 3, 2, 0, 3, 2, 3, 2, 3, 3, 1, 2, 3, 2, 3, 3, 3, 3, 2, 4, 5, 3, 3, 3, 3, 1, 2, 4, 2, 0, 2, 5, 0, 2, 3, 4, 4, 3, 0, 3, 4, 3, 3, 2, 4, 0, 3, 2, 3, 2, 4, 5, 3, 0, 4, 3, 0, 1, 3, 0, 2, 3, 5, 3, 3, 3, 3, 3, 4, 2, 0, 3, 4, 0, 3, 3, 3, 3, 5, 3, 3, 0, 3, 0, 3, 3, 2, 4, 2, 4, 2, 5, 3, 3, 0, 2, 0, 0, 3, 3, 1, 5, 3, 4, 4, 3, 3, 2, 5, 3, 2, 2, 2, 2, 0, 2, 2, 2, 2, 2, 2, 2, 2, 2, 2, 2, 2, 2, 2, 3, 2, 2, 2, 2, 2, 2, 1, 2, 2, 2, 2, 2, 3, 2, 2, 2, 2, 2, 2, 2, 2, 2, 2, 2, 2, 2, 2, 2, 2, 2, 2, 2, 2, 2, 2, 5, 2, 2, 3, 1, 1, 1, 1, 1, 1, 4, 3, 1, 3, 3, 3, 1, 1, 3, 3, 3, 4, 1, 3, 1, 3, 1, 3, 3, 4, 4, 4, 4, 3, 1, 3, 1, 0, 3, 0, 2, 1, 3, 3, 3, 3, 3, 3, 3, 3, 3, 3, 3, 3, 3, 3, 3, 3, 3, 3, 5, 5, 5, 5, 5, 5, 2, 2, 2, 2, 3, 3, 3, 3, 0, 0, 5, 0, 5, 0, 3, 5, 3, 0, 0, 3, 0, 3, 3, 3, 1, 3, 3, 3, 3, 3, 3, 3, 3, 3, 3, 3, 3, 3, 3, 3, 3, 3, 3, 3, 3, 3, 3, 3, 5, 5, 5, 5, 5, 5, 5, 5, 2, 2, 2, 4, 4, 4, 0, 3, 3, 2, 5, 5, 5, 5, 3, 5, 5, 5, 5, 0, 4, 4, 4, 0, 0, 5, 0, 0, 3, 3, 3, 3, 3, 3, 0, 0, 0, 0, 3, 0, 0, 0, 3, 3, 0, 3, 3, 3, 3, 3, 3, 3, 3, 3, 3, 3, 3, 3, 3, 3, 3, 3, 3, 3, 3, 3, 3, 5, 5, 5, 5, 3, 5, 5, 5, 5, 5, 5, 4, 4, 4, 4, 4, 4, 4, 4, 3, 3, 5, 3, 3, 3, 5, 5, 5, 0, 5, 0, 4, 4, 3, 3, 3, 2, 2, 3, 3, 3, 3, 3, 3, 3, 5, 3, 3, 4, 4, 3, 3, 3, 3, 3, 3, 3, 0, 3, 3, 3, 3, 3, 0, 5, 0, 0, 4, 0, 3, 5, 5, 0, 3, 3, 3, 5, 3, 5, 3, 3, 4, 3, 3, 3, 3, 3, 4, 3, 3, 4, 3, 3, 3, 0, 3, 0, 3, 0, 0, 0, 0, 0, 0, 0, 5, 0, 5, 5, 5, 3, 3, 3, 3, 3, 0, 0, 0, 2, 0, 0, 0, 3, 3, 3, 3, 3, 3, 3, 3, 2, 1, 3, 3, 1, 1, 0, 3, 3, 3, 3, 3, 1, 1, 0, 0, 0, 5, 5, 5, 5, 3, 5, 3, 3, 3, 3, 3, 5, 3, 2, 3, 3, 0, 3, 3, 3, 4, 4, 4, 4, 3, 3, 3, 4, 3, 3, 4, 0, 3, 0, 3, 3, 0, 0, 3, 3, 3, 3, 3, 3, 1, 1, 3, 3, 3, 3, 5, 3, 3, 4, 3, 0, 0, 3, 3, 3, 3, 3, 3, 3, 3, 3, 5, 2, 3, 2, 3, 0, 0, 3, 3, 2, 3, 3, 5, 0, 0, 0, 0, 0, 5, 5, 0, 3, 5, 0, 3, 3, 3, 0, 0, 0, 0, 0, 0, 0, 0, 0, 0, 0, 3, 3, 3, 3, 3, 3, 3, 0, 3, 3, 3, 3, 3, 3, 1, 0, 2, 2, 4, 4, 4, 4, 4, 5, 3, 3, 3, 0, 0, 0, 0, 5, 4, 4, 4, 4, 4, 3, 3, 3, 3, 3, 0, 3, 4, 4, 4, 3, 3, 3, 3, 1, 5, 3, 3, 4, 4, 4, 4, 4, 4, 4, 0, 0, 0, 5, 5, 5, 5, 5, 0, 5, 3, 0, 3, 2, 0, 5, 3, 3, 5, 5, 5, 5, 5, 4, 4, 0, 4, 0, 4, 0, 3, 4, 4, 4, 3, 3, 3, 3, 3, 3, 4, 2, 3, 3, 3, 0, 0, 2, 3, 3, 3, 3, 1, 1, 3, 0, 1, 4, 1, 1, 1, 1, 1, 1, 0, 3, 0, 0, 2, 4, 4, 4, 3, 3, 3, 4, 0, 3, 3, 3, 3, 0, 3, 3, 4, 4, 4, 4, 4, 4, 0, 4, 3, 2, 0, 3, 4, 5, 0, 2, 2, 3, 3, 3, 3, 3, 2, 3, 5, 5, 4, 3, 4, 4, 4, 3, 4, 4, 0, 4, 4, 4, 5, 2, 2, 2, 2, 4, 3, 3, 3, 3, 3, 4, 4, 4, 1, 3, 0, 3, 3, 5, 0, 2, 3, 3, 3, 3, 3, 2, 4, 4, 0, 0, 3, 2, 3, 3, 0, 3, 3, 3, 5, 3, 3, 4, 4, 2, 4, 4, 4, 3, 3, 2, 2, 2, 2, 2, 2, 2, 2, 2, 2, 0, 2, 2, 2, 0, 3, 3, 5, 3, 3, 3, 2, 3, 3, 4, 4, 4, 2, 3, 3, 0, 0, 3, 0, 4, 4, 3, 2, 3, 3, 3, 3, 5, 3, 4, 3, 5, 3, 3, 1, 3, 4, 5, 2, 3, 3, 3, 4, 5, 4, 0, 3, 3, 0, 2, 1, 1, 5, 2, 3, 3, 5, 0, 2, 3, 2, 2, 5, 5, 4, 3, 4, 3, 2, 2, 4, 2, 4, 5, 5, 3, 2, 3, 3, 0, 3, 3, 4, 5, 4, 3, 3, 3, 3, 3, 0, 1, 2, 4, 4, 4, 3, 3, 3, 5, 2, 3, 2, 2, 2, 3, 2, 2, 0, 4, 4, 3, 3, 3, 3, 3, 3, 3, 3, 3, 3, 0, 0, 3, 0, 3, 0, 2, 3, 4, 1, 2, 5, 4, 3, 3, 3, 3, 5, 3, 4, 3, 2, 2, 1, 3, 3, 3, 3, 3, 3, 3, 3, 3, 3, 3, 3, 3, 2, 3, 2, 4, 2, 4, 2, 2, 1, 5, 3, 4, 3, 3, 3, 2, 5, 3, 3, 4, 3, 3, 3, 3, 3, 4, 3, 0, 3, 2, 2, 2, 5, 4, 4, 4, 4, 3, 3, 2, 2, 0, 2, 2, 2, 2, 2, 3, 4, 4, 4, 3, 3, 4, 4, 3, 3, 3, 4, 4, 4, 4, 4, 4, 3, 4, 4, 4, 4, 4, 4, 4, 4, 2, 3, 3, 3, 2, 3, 2, 3, 3, 4, 4, 3, 3, 3, 3, 3, 3, 0, 3, 3, 3, 3, 3]\n",
      "Old label counts: {0: 351, 1: 217, 2: 418, 3: 818, 4: 426, 5: 298, 6: 180}\n",
      "New label counts: {0: 351, 1: 126, 2: 418, 3: 1089, 4: 426, 5: 298}\n"
     ]
    }
   ],
   "source": [
    "# Initial proportions and budget for debugging\n",
    "initial_proportions = [0.12961595, 0.08013294, 0.15435746, 0.30206795, 0.15731167, 0.11004431, 0.06646972]\n",
    "N = 2708\n",
    "budget = 0.1\n",
    "# Run the optimization\n",
    "try:\n",
    "    optimized_proportions, optimized_sum_of_squares = optimize_proportions(initial_proportions, budget)\n",
    "    print(\"Optimized Proportions:\", optimized_proportions)\n",
    "    print(\"Optimized Sum of Squares:\", optimized_sum_of_squares)\n",
    "except ValueError as e:\n",
    "    print(e)\n",
    "# Example usage\n",
    "current_labels = data.y.tolist()\n",
    "# optimized_proportions = np.array([0.4, 0.3, 0.3])  # Proportions for labels 1, 2, 3\n",
    "\n",
    "new_labels = balance_labels(current_labels, optimized_proportions)\n",
    "\n",
    "print(\"Original labels:\", current_labels)\n",
    "print(\"New labels:     \", new_labels)\n",
    "print(\"Old label counts:\", {label: current_labels.count(label) for label in set(current_labels)})\n",
    "print(\"New label counts:\", {label: new_labels.count(label) for label in set(new_labels)})\n",
    "new_labels = torch.tensor(new_labels)"
   ]
  },
  {
   "cell_type": "code",
   "execution_count": 28,
   "metadata": {},
   "outputs": [
    {
     "data": {
      "text/plain": [
       "tensor(271)"
      ]
     },
     "execution_count": 28,
     "metadata": {},
     "output_type": "execute_result"
    }
   ],
   "source": [
    "(new_labels != data.y).sum()"
   ]
  },
  {
   "cell_type": "code",
   "execution_count": 29,
   "metadata": {},
   "outputs": [
    {
     "data": {
      "text/plain": [
       "271"
      ]
     },
     "execution_count": 29,
     "metadata": {},
     "output_type": "execute_result"
    }
   ],
   "source": [
    "180 + 217 - 126"
   ]
  },
  {
   "cell_type": "code",
   "execution_count": 30,
   "metadata": {},
   "outputs": [],
   "source": [
    "def labels_defense(labels, budget):\n",
    "    #clalculate the class proportions\n",
    "    labels = labels.numpy()\n",
    "    unique, counts = np.unique(labels, return_counts=True)\n",
    "    N = labels.size\n",
    "    alpha_c = counts / N\n",
    "    #optimize the proportions\n",
    "    try:\n",
    "        optimized_proportions, optimized_sum_of_squares = optimize_proportions(alpha_c, budget)\n",
    "        print(\"Optimized Proportions:\", optimized_proportions)\n",
    "        print(\"Optimized Sum of Squares:\", optimized_sum_of_squares)\n",
    "    except ValueError as e:\n",
    "        print(e)\n",
    "    #balance the labels\n",
    "    new_labels = balance_labels(labels, optimized_proportions)\n",
    "    return torch.tensor(new_labels)"
   ]
  },
  {
   "cell_type": "code",
   "execution_count": 49,
   "metadata": {},
   "outputs": [
    {
     "name": "stdout",
     "output_type": "stream",
     "text": [
      "Optimization terminated successfully    (Exit mode 0)\n",
      "            Current function value: -0.20808105670318988\n",
      "            Iterations: 50\n",
      "            Function evaluations: 491\n",
      "            Gradient evaluations: 48\n",
      "Optimization Result:      fun: -0.20808105670318988\n",
      "     jac: array([-0.25922666, -0.16024482, -0.30872221, -0.70414317, -0.31461408,\n",
      "       -0.21958992, -0.03345924])\n",
      " message: 'Optimization terminated successfully'\n",
      "    nfev: 491\n",
      "     nit: 50\n",
      "    njev: 48\n",
      "  status: 0\n",
      " success: True\n",
      "       x: array([0.12961391, 0.08012365, 0.15435654, 0.35206886, 0.15730833,\n",
      "       0.10980679, 0.01672191])\n",
      "Optimized Proportions: [0.12961391 0.08012365 0.15435654 0.35206886 0.15730833 0.10980679\n",
      " 0.01672191]\n",
      "Optimized Sum of Squares: 0.20808105670318988\n",
      "New label counts: {0: 351, 1: 217, 2: 418, 3: 954, 4: 426, 5: 297, 6: 45}\n"
     ]
    }
   ],
   "source": [
    "new_labels = labels_defense(data.y, 0.05).tolist()\n",
    "print(\"New label counts:\", {label: new_labels.count(label) for label in set(new_labels)})"
   ]
  },
  {
   "cell_type": "code",
   "execution_count": null,
   "metadata": {},
   "outputs": [],
   "source": []
  }
 ],
 "metadata": {
  "kernelspec": {
   "display_name": "gnn",
   "language": "python",
   "name": "gnn"
  },
  "language_info": {
   "codemirror_mode": {
    "name": "ipython",
    "version": 3
   },
   "file_extension": ".py",
   "mimetype": "text/x-python",
   "name": "python",
   "nbconvert_exporter": "python",
   "pygments_lexer": "ipython3",
   "version": "3.10.8"
  }
 },
 "nbformat": 4,
 "nbformat_minor": 2
}
