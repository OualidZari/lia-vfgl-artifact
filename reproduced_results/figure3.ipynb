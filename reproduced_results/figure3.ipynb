{
 "cells": [
  {
   "cell_type": "code",
   "execution_count": null,
   "metadata": {},
   "outputs": [],
   "source": []
  },
  {
   "cell_type": "markdown",
   "metadata": {},
   "source": [
    "### To reproduce Figure 3 results (Cora dataset):\n",
    "\n",
    "We will reproduce the results for the Cora dataset by default, but you can choose any dataset you want by following the instructions below.\n",
    "\n",
    "1. Open `scripts/run_figure3.sh`\n",
    "2. Modify as needed:\n",
    "   - `datasets` (default=Cora)\n",
    "   - `experiment_name` (Name for the experiment, will be used as directory name for logs)\n",
    "   - Modify the parallel parameter (-j) to adjust the number of concurrent jobs based on your system's capabilities\n",
    "\n",
    "\n",
    "3. Make the script executable:\n",
    "   ```\n",
    "   chmod +x scripts/run_figure3.sh\n",
    "   ```\n",
    "\n",
    "4. Run the script:\n",
    "   ```\n",
    "   bash scripts/run_figure3.sh\n",
    "   ```\n",
    "\n",
    "Results will be logged to wandb and saved in the `logs/{experiment_name}` directory.\n",
    "\n",
    "### Note: To reproduce results for other datasets in Figure 3:\n",
    "- Modify the `datasets` array in the script (e.g., datasets=('CiteSeer') for CiteSeer dataset)\n",
    "- Change the `experiment_name` accordingly (e.g., \"Figure 3 results CiteSeer\")\n",
    "\n",
    "For example, to reproduce results for CiteSeer:\n",
    "1. In `scripts/run_figure3.sh`, change:\n",
    "   ```\n",
    "   datasets=('CiteSeer')\n",
    "   experiment_name=\"Figure 3 results CiteSeer\"\n",
    "   ```\n",
    "2. Run the script as described above\n",
    "\n",
    "Note: We used GCN architecture for all datasets in Figure 3, so keep architectures=('gcn')\n",
    "\n",
    "### Parsing the results\n",
    "\n",
    "After running the script, the logs of the experiments are stored in the directory `logs/Figure 3 results Cora`.\n",
    "The code below parses these results to compute the average AUC for the Gradient and Inter-Reps attacks across multiple seeds over training epochs.\n",
    "It extracts the AUC values for these two attack methods at each epoch to show their evolution during training.\n",
    "\n",
    "The code also renames some attack methods to match the names used in the paper:\n",
    "- 'gradients' is used for the Gradient attack\n",
    "- 'forward_values' is renamed to 'Inter-Reps'\n",
    "\n",
    "Don't forget to change the experiment name in the code in the next cell to parse the correct logs of the experiment for the new dataset if you're reproducing results for a different dataset."
   ]
  },
  {
   "cell_type": "markdown",
   "metadata": {},
   "source": []
  }
 ],
 "metadata": {
  "language_info": {
   "name": "python"
  }
 },
 "nbformat": 4,
 "nbformat_minor": 2
}
