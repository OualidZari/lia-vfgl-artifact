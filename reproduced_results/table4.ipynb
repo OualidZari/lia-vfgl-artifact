{
 "cells": [
  {
   "cell_type": "markdown",
   "metadata": {},
   "source": [
    "To reproduce Table 4 results:\n",
    "\n",
    "1. Open `scripts/run_table4.sh`\n",
    "2. Modify as needed:\n",
    "   - `datasets` default=Cora\n",
    "   - `architectures` default=GCN\n",
    "   - `fraction_data_gcn` Fraction of the data owned by the victim party, default=0.5\n",
    "   - Modify the parallel parameter (-j) to adjust the number of concurrent jobs based on your system's capabilities\n",
    "\n",
    "3. Run: `bash scripts/run_table4.sh`\n",
    "4. Results will be logged to wandb\n",
    "\n",
    "\n"
   ]
  },
  {
   "cell_type": "code",
   "execution_count": 49,
   "metadata": {},
   "outputs": [
    {
     "ename": "TypeError",
     "evalue": "Api.runs() got an unexpected keyword argument 'dir'",
     "output_type": "error",
     "traceback": [
      "\u001b[0;31m---------------------------------------------------------------------------\u001b[0m",
      "\u001b[0;31mTypeError\u001b[0m                                 Traceback (most recent call last)",
      "Input \u001b[0;32mIn [49]\u001b[0m, in \u001b[0;36m<cell line: 13>\u001b[0;34m()\u001b[0m\n\u001b[1;32m      9\u001b[0m project \u001b[38;5;241m=\u001b[39m \u001b[38;5;124m\"\u001b[39m\u001b[38;5;124mLink Inference In FL\u001b[39m\u001b[38;5;124m\"\u001b[39m \n\u001b[1;32m     11\u001b[0m wandb_path \u001b[38;5;241m=\u001b[39m Path(\u001b[38;5;124m\"\u001b[39m\u001b[38;5;124m../wandb/offline-run-20240826_201536-1pueg6bd\u001b[39m\u001b[38;5;124m\"\u001b[39m)\n\u001b[0;32m---> 13\u001b[0m run \u001b[38;5;241m=\u001b[39m \u001b[43mapi\u001b[49m\u001b[38;5;241;43m.\u001b[39;49m\u001b[43mruns\u001b[49m\u001b[43m(\u001b[49m\u001b[43mproject\u001b[49m\u001b[43m,\u001b[49m\u001b[43m \u001b[49m\u001b[38;5;28;43mdir\u001b[39;49m\u001b[38;5;241;43m=\u001b[39;49m\u001b[43mwandb_path\u001b[49m\u001b[43m)\u001b[49m\n\u001b[1;32m     14\u001b[0m \u001b[38;5;66;03m# Access logged data\u001b[39;00m\n\u001b[1;32m     15\u001b[0m history \u001b[38;5;241m=\u001b[39m run\u001b[38;5;241m.\u001b[39mscan_history()\n",
      "\u001b[0;31mTypeError\u001b[0m: Api.runs() got an unexpected keyword argument 'dir'"
     ]
    }
   ],
   "source": [
    "import wandb\n",
    "import wandb\n",
    "from pathlib import Path\n",
    "\n",
    "api = wandb.Api()\n",
    "\n",
    "run_id = \"1pueg6bd\"\n",
    "entity = \"oualidzari\"\n",
    "project = \"Link Inference In FL\" \n",
    "\n",
    "wandb_path = Path(\"../wandb/offline-run-20240826_201536-1pueg6bd\")\n",
    "\n",
    "run = api.runs(project, dir=wandb_path)\n",
    "# Access logged data\n",
    "history = run.scan_history()\n",
    "\n",
    "# Print all metrics\n",
    "for row in history:\n",
    "    print(row)\n",
    "\n",
    "# Access specific metrics\n",
    "for row in history:\n",
    "    if 'accuracy_test' in row:\n",
    "        print(f\"Epoch: {row.get('epoch', 'N/A')}, Test Accuracy: {row['accuracy_test']}\")\n",
    "    if 'accuracy_train' in row:\n",
    "        print(f\"Epoch: {row.get('epoch', 'N/A')}, Train Accuracy: {row['accuracy_train']}\")\n",
    "    if 'loss' in row:\n",
    "        print(f\"Epoch: {row.get('epoch', 'N/A')}, Loss: {row['loss']}\")\n",
    "\n",
    "# You can also access the final values from the summary\n",
    "print(\"\\nFinal values:\")\n",
    "print(f\"Final Test Accuracy: {run.summary.get('accuracy_test', 'N/A')}\")\n",
    "print(f\"Final Train Accuracy: {run.summary.get('accuracy_train', 'N/A')}\")\n",
    "print(f\"Final Loss: {run.summary.get('loss', 'N/A')}\")\n"
   ]
  },
  {
   "cell_type": "code",
   "execution_count": 52,
   "metadata": {},
   "outputs": [
    {
     "ename": "DecodeError",
     "evalue": "Error parsing message with type 'wandb_internal.Record'",
     "output_type": "error",
     "traceback": [
      "\u001b[0;31m---------------------------------------------------------------------------\u001b[0m",
      "\u001b[0;31mDecodeError\u001b[0m                               Traceback (most recent call last)",
      "Input \u001b[0;32mIn [52]\u001b[0m, in \u001b[0;36m<cell line: 13>\u001b[0;34m()\u001b[0m\n\u001b[1;32m     10\u001b[0m     \u001b[38;5;28;01mreturn\u001b[39;00m run_data\n\u001b[1;32m     12\u001b[0m \u001b[38;5;66;03m# Usage\u001b[39;00m\n\u001b[0;32m---> 13\u001b[0m binary_data \u001b[38;5;241m=\u001b[39m \u001b[43mread_wandb_binary\u001b[49m\u001b[43m(\u001b[49m\u001b[43mfile_path\u001b[49m\u001b[38;5;241;43m=\u001b[39;49m\u001b[43mfile_path\u001b[49m\u001b[43m)\u001b[49m\n\u001b[1;32m     14\u001b[0m \u001b[38;5;28mprint\u001b[39m(binary_data)\n",
      "Input \u001b[0;32mIn [52]\u001b[0m, in \u001b[0;36mread_wandb_binary\u001b[0;34m(file_path)\u001b[0m\n\u001b[1;32m      7\u001b[0m run_data \u001b[38;5;241m=\u001b[39m wandb_internal\u001b[38;5;241m.\u001b[39mRecord()\n\u001b[1;32m      8\u001b[0m \u001b[38;5;28;01mwith\u001b[39;00m \u001b[38;5;28mopen\u001b[39m(file_path, \u001b[38;5;124m'\u001b[39m\u001b[38;5;124mrb\u001b[39m\u001b[38;5;124m'\u001b[39m) \u001b[38;5;28;01mas\u001b[39;00m f:\n\u001b[0;32m----> 9\u001b[0m     \u001b[43mrun_data\u001b[49m\u001b[38;5;241;43m.\u001b[39;49m\u001b[43mParseFromString\u001b[49m\u001b[43m(\u001b[49m\u001b[43mf\u001b[49m\u001b[38;5;241;43m.\u001b[39;49m\u001b[43mread\u001b[49m\u001b[43m(\u001b[49m\u001b[43m)\u001b[49m\u001b[43m)\u001b[49m\n\u001b[1;32m     10\u001b[0m \u001b[38;5;28;01mreturn\u001b[39;00m run_data\n",
      "\u001b[0;31mDecodeError\u001b[0m: Error parsing message with type 'wandb_internal.Record'"
     ]
    }
   ],
   "source": [
    "from google.protobuf import message\n",
    "import wandb.proto.wandb_internal_pb2 as wandb_internal\n",
    "\n",
    "file_path = \"/home/zari/artifact_LIA_VFGL/wandb/latest-run/run-1pueg6bd.wandb\"\n",
    "\n",
    "def read_wandb_binary(file_path):\n",
    "    run_data = wandb_internal.Record()\n",
    "    with open(file_path, 'rb') as f:\n",
    "        run_data.ParseFromString(f.read())\n",
    "    return run_data\n",
    "\n",
    "# Usage\n",
    "binary_data = read_wandb_binary(file_path=file_path)\n",
    "print(binary_data)"
   ]
  },
  {
   "cell_type": "code",
   "execution_count": null,
   "metadata": {},
   "outputs": [],
   "source": [
    "\n",
    "\n",
    "\n",
    "\n",
    "# Access the run's summary (which contains the logged metrics)\n",
    "summary = run.summary\n",
    "\n",
    "# Print the summary\n",
    "print(summary)\n",
    "\n",
    "# If you want to access specific metrics:\n",
    "# print(summary['metric_name'])\n",
    "\n",
    "# To get all the metrics as a dictionary:\n",
    "metrics = run.history()\n",
    "\n",
    "# Print all metrics\n",
    "print(metrics)"
   ]
  },
  {
   "cell_type": "code",
   "execution_count": null,
   "metadata": {},
   "outputs": [],
   "source": []
  }
 ],
 "metadata": {
  "kernelspec": {
   "display_name": "gnn",
   "language": "python",
   "name": "gnn"
  },
  "language_info": {
   "codemirror_mode": {
    "name": "ipython",
    "version": 3
   },
   "file_extension": ".py",
   "mimetype": "text/x-python",
   "name": "python",
   "nbconvert_exporter": "python",
   "pygments_lexer": "ipython3",
   "version": "3.10.8"
  }
 },
 "nbformat": 4,
 "nbformat_minor": 2
}
