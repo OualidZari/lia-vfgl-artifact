{
 "cells": [
  {
   "cell_type": "markdown",
   "metadata": {},
   "source": [
    "## To reproduce Table 4 results (Cora dataset):\n",
    "\n",
    "We will reproduce the results for the Cora dataset by default, but you can choose any dataset you want by following the instructions below.\n",
    "\n",
    "1. Open `scripts/run_table4.sh`\n",
    "2. Modify as needed:\n",
    "   - `datasets` (default=Cora)\n",
    "   - `experiment_name` (Name for the experiment, will be used as directory name for logs)\n",
    "   - Modify the parallel parameter (-j) to adjust the number of concurrent jobs based on your system's capabilities\n",
    "\n",
    "\n",
<<<<<<< HEAD
    "3. Make the script executable:\n",
    "   ```\n",
    "   chmod +x scripts/run_table4.sh\n",
    "   ```\n",
    "\n",
    "4. Run the script:\n",
    "   ```\n",
    "   bash scripts/run_table4.sh\n",
    "   ```\n",
    "\n",
    "Results will be logged to wandb and saved in the `logs/{experiment_name}` directory.\n",
    "\n",
    "### Note: To reproduce results for other datasets in Table 4:\n",
    "- Modify the `datasets` array in the script (e.g., datasets=('CiteSeer') for CiteSeer dataset)\n",
    "- Change the `experiment_name` accordingly (e.g., \"Table 4 results CiteSeer\")\n",
    "\n",
    "For example, to reproduce results for CiteSeer:\n",
    "1. In `scripts/run_table4.sh`, change:\n",
    "   ```\n",
    "   datasets=('CiteSeer')\n",
    "   experiment_name=\"Table 4 results CiteSeer\"\n",
    "   ```\n",
    "2. Run the script as described above\n",
    "\n",
    "Note: We used GCN architecture for all datasets in Table 4, so keep architectures=('gcn')\n",
    "\n",
    "### Parsing the results\n",
    "\n",
    "After running the script, the logs of the experiments are stored in the directory `logs/Table 4 results Cora`.\n",
    "The code below parses these results to compute the average accuracy for each attack method across multiple seeds.\n",
    "It extracts the accuracy values for different attack methods at specific epochs:\n",
    "- For 'gradients', 'features', and 'labels', it uses the accuracy at epoch 0.\n",
    "- For 'output_server' and 'forward_values', it uses the accuracy at the last epoch.\n",
    "\n",
    "The code also renames some attack methods to match the names used in the paper:\n",
    "- 'output_server' is renamed to 'Prediction output'\n",
    "- 'forward_values' is renamed to 'Inter-Reps'\n",
    "\n",
    "Don't forget to change the experiment name in the code in the next cell to parse the correct logs of the experiment for the new dataset"
=======
    "\n"
   ]
  },
  {
   "cell_type": "code",
   "execution_count": 36,
   "metadata": {},
   "outputs": [
    {
     "ename": "CommError",
     "evalue": "Api.run() got an unexpected keyword argument 'mode'",
     "output_type": "error",
     "traceback": [
      "\u001b[0;31m---------------------------------------------------------------------------\u001b[0m",
      "\u001b[0;31mTypeError\u001b[0m                                 Traceback (most recent call last)",
      "File \u001b[0;32m~/miniconda3/envs/gnn/lib/python3.10/site-packages/wandb/apis/normalize.py:26\u001b[0m, in \u001b[0;36mnormalize_exceptions.<locals>.wrapper\u001b[0;34m(*args, **kwargs)\u001b[0m\n\u001b[1;32m     25\u001b[0m \u001b[38;5;28;01mtry\u001b[39;00m:\n\u001b[0;32m---> 26\u001b[0m     \u001b[38;5;28;01mreturn\u001b[39;00m \u001b[43mfunc\u001b[49m\u001b[43m(\u001b[49m\u001b[38;5;241;43m*\u001b[39;49m\u001b[43margs\u001b[49m\u001b[43m,\u001b[49m\u001b[43m \u001b[49m\u001b[38;5;241;43m*\u001b[39;49m\u001b[38;5;241;43m*\u001b[39;49m\u001b[43mkwargs\u001b[49m\u001b[43m)\u001b[49m\n\u001b[1;32m     27\u001b[0m \u001b[38;5;28;01mexcept\u001b[39;00m requests\u001b[38;5;241m.\u001b[39mHTTPError \u001b[38;5;28;01mas\u001b[39;00m err:\n",
      "\u001b[0;31mTypeError\u001b[0m: Api.run() got an unexpected keyword argument 'mode'",
      "\nDuring handling of the above exception, another exception occurred:\n",
      "\u001b[0;31mCommError\u001b[0m                                 Traceback (most recent call last)",
      "Input \u001b[0;32mIn [36]\u001b[0m, in \u001b[0;36m<cell line: 9>\u001b[0;34m()\u001b[0m\n\u001b[1;32m      6\u001b[0m project \u001b[38;5;241m=\u001b[39m \u001b[38;5;124m\"\u001b[39m\u001b[38;5;124mLink Inference In FL\u001b[39m\u001b[38;5;124m\"\u001b[39m \n\u001b[1;32m      8\u001b[0m api \u001b[38;5;241m=\u001b[39m wandb\u001b[38;5;241m.\u001b[39mApi()\n\u001b[0;32m----> 9\u001b[0m run \u001b[38;5;241m=\u001b[39m \u001b[43mapi\u001b[49m\u001b[38;5;241;43m.\u001b[39;49m\u001b[43mrun\u001b[49m\u001b[43m(\u001b[49m\u001b[38;5;124;43mf\u001b[39;49m\u001b[38;5;124;43m\"\u001b[39;49m\u001b[38;5;132;43;01m{\u001b[39;49;00m\u001b[43mentity\u001b[49m\u001b[38;5;132;43;01m}\u001b[39;49;00m\u001b[38;5;124;43m/\u001b[39;49m\u001b[38;5;132;43;01m{\u001b[39;49;00m\u001b[43mproject\u001b[49m\u001b[38;5;132;43;01m}\u001b[39;49;00m\u001b[38;5;124;43m/\u001b[39;49m\u001b[38;5;132;43;01m{\u001b[39;49;00m\u001b[43mrun_id\u001b[49m\u001b[38;5;132;43;01m}\u001b[39;49;00m\u001b[38;5;124;43m\"\u001b[39;49m\u001b[43m,\u001b[49m\u001b[43m \u001b[49m\u001b[43mmode\u001b[49m\u001b[38;5;241;43m=\u001b[39;49m\u001b[38;5;124;43m\"\u001b[39;49m\u001b[38;5;124;43moffline\u001b[39;49m\u001b[38;5;124;43m\"\u001b[39;49m\u001b[43m)\u001b[49m\n",
      "File \u001b[0;32m~/miniconda3/envs/gnn/lib/python3.10/site-packages/wandb/apis/normalize.py:62\u001b[0m, in \u001b[0;36mnormalize_exceptions.<locals>.wrapper\u001b[0;34m(*args, **kwargs)\u001b[0m\n\u001b[1;32m     60\u001b[0m     \u001b[38;5;28;01mraise\u001b[39;00m\n\u001b[1;32m     61\u001b[0m \u001b[38;5;28;01melse\u001b[39;00m:\n\u001b[0;32m---> 62\u001b[0m     \u001b[38;5;28;01mraise\u001b[39;00m CommError(message, err)\u001b[38;5;241m.\u001b[39mwith_traceback(sys\u001b[38;5;241m.\u001b[39mexc_info()[\u001b[38;5;241m2\u001b[39m])\n",
      "File \u001b[0;32m~/miniconda3/envs/gnn/lib/python3.10/site-packages/wandb/apis/normalize.py:26\u001b[0m, in \u001b[0;36mnormalize_exceptions.<locals>.wrapper\u001b[0;34m(*args, **kwargs)\u001b[0m\n\u001b[1;32m     24\u001b[0m message \u001b[38;5;241m=\u001b[39m \u001b[38;5;124m\"\u001b[39m\u001b[38;5;124mWhoa, you found a bug.\u001b[39m\u001b[38;5;124m\"\u001b[39m\n\u001b[1;32m     25\u001b[0m \u001b[38;5;28;01mtry\u001b[39;00m:\n\u001b[0;32m---> 26\u001b[0m     \u001b[38;5;28;01mreturn\u001b[39;00m \u001b[43mfunc\u001b[49m\u001b[43m(\u001b[49m\u001b[38;5;241;43m*\u001b[39;49m\u001b[43margs\u001b[49m\u001b[43m,\u001b[49m\u001b[43m \u001b[49m\u001b[38;5;241;43m*\u001b[39;49m\u001b[38;5;241;43m*\u001b[39;49m\u001b[43mkwargs\u001b[49m\u001b[43m)\u001b[49m\n\u001b[1;32m     27\u001b[0m \u001b[38;5;28;01mexcept\u001b[39;00m requests\u001b[38;5;241m.\u001b[39mHTTPError \u001b[38;5;28;01mas\u001b[39;00m err:\n\u001b[1;32m     28\u001b[0m     \u001b[38;5;28;01mraise\u001b[39;00m CommError(err\u001b[38;5;241m.\u001b[39mresponse, err)\n",
      "\u001b[0;31mCommError\u001b[0m: Api.run() got an unexpected keyword argument 'mode'"
     ]
    }
   ],
   "source": [
    "import wandb\n",
    "api = wandb.Api()\n",
    "\n",
    "run_id = \"1pueg6bd\"\n",
    "entity = \"oualidzari\"\n",
    "project = \"Link Inference In FL\" \n",
    "\n",
    "api = wandb.Api()\n",
    "run = api.run(f\"{entity}/{project}/{run_id}\")\n",
    "\n"
>>>>>>> parent of 20500a2... added local logging
   ]
  },
  {
   "cell_type": "code",
<<<<<<< HEAD
   "execution_count": 10,
   "metadata": {},
   "outputs": [
    {
     "name": "stdout",
     "output_type": "stream",
     "text": [
      "---------------- Cora ----------------\n",
      "              attack            result\n",
      "0          gradients  81.6473 ± 1.1879\n",
      "1         Inter-Reps  67.2737 ± 1.5734\n",
      "2           features  71.0382 ± 1.4953\n",
      "3             labels  82.0109 ± 0.3949\n",
      "4  Prediction output  79.5414 ± 1.0349\n"
     ]
    }
   ],
   "source": [
    "import os\n",
    "import pandas as pd\n",
    "import numpy as np\n",
    "\n",
    "def safe_float(x):\n",
    "    try:\n",
    "        return float(x)\n",
    "    except ValueError:\n",
    "        return np.nan\n",
    "\n",
    "def parse_results(experiment_dir):\n",
    "    results = []\n",
    "    for subdir in os.listdir(experiment_dir):\n",
    "        csv_path = os.path.join(experiment_dir, subdir, 'attack_results.csv')\n",
    "        if os.path.exists(csv_path):\n",
    "            df = pd.read_csv(csv_path)\n",
    "            \n",
    "            # Filter for Accuracy metrics only\n",
    "            accuracy_df = df[df['metric'].str.startswith('Accuracy-')].copy()\n",
    "            \n",
    "            # Convert 'value' column to numeric\n",
    "            accuracy_df['value'] = accuracy_df['value'].apply(safe_float)\n",
    "            \n",
    "            # Get results for gradients, features, labels at epoch 0\n",
    "            epoch0_results = accuracy_df[accuracy_df['epoch'] == 0]\n",
    "            for attack in ['gradients', 'features', 'labels']:\n",
    "                accuracy = epoch0_results[epoch0_results['metric'] == f'Accuracy-{attack}']['value'].values\n",
    "                if len(accuracy) > 0:\n",
    "                    results.append({'attack': attack, 'accuracy': accuracy[0]})\n",
    "            \n",
    "            # Get results for output_server and forward_values at last epoch\n",
    "            last_epoch = accuracy_df['epoch'].max()\n",
    "            last_epoch_results = accuracy_df[accuracy_df['epoch'] == last_epoch]\n",
    "            for attack in ['output_server', 'forward_values']:\n",
    "                accuracy = last_epoch_results[last_epoch_results['metric'] == f'Accuracy-{attack}']['value'].values\n",
    "                if len(accuracy) > 0:\n",
    "                    attack_name = 'Inter-Reps' if attack == 'forward_values' else 'Prediction output'\n",
    "                    results.append({'attack': attack_name, 'accuracy': accuracy[0]})\n",
    "    \n",
    "    return pd.DataFrame(results)\n",
    "\n",
    "# Specify the path to your experiment directory\n",
    "experiment_dir = '../logs/Table 4 results Cora'\n",
    "\n",
    "# Parse results\n",
    "results_df = parse_results(experiment_dir)\n",
    "\n",
    "# Compute mean and std\n",
    "summary = results_df.groupby('attack')['accuracy'].agg(['mean', 'std']).reset_index()\n",
    "\n",
    "# Format the results\n",
    "summary['result'] = summary.apply(lambda row: f\"{row['mean']*100:.4f} ± {row['std']*100:.4f}\", axis=1)\n",
    "\n",
    "# Define the desired order\n",
    "order = ['gradients', 'Inter-Reps', 'features', 'labels', 'Prediction output']\n",
    "\n",
    "# Reorder the rows\n",
    "summary = summary.set_index('attack').loc[order].reset_index()\n",
    "\n",
    "# Display the results\n",
    "print(\"---------------- Cora ----------------\")\n",
    "print(summary[['attack', 'result']])"
=======
   "execution_count": 32,
   "metadata": {},
   "outputs": [
    {
     "data": {
      "text/plain": [
       "{'_wandb': {'runtime': 0}}"
      ]
     },
     "execution_count": 32,
     "metadata": {},
     "output_type": "execute_result"
    }
   ],
   "source": [
    "run.summary"
>>>>>>> parent of 20500a2... added local logging
   ]
  },
  {
   "cell_type": "code",
   "execution_count": null,
   "metadata": {},
   "outputs": [],
   "source": [
    "\n",
    "\n",
    "\n"
   ]
  },
  {
   "cell_type": "code",
   "execution_count": null,
   "metadata": {},
   "outputs": [],
   "source": []
  }
 ],
 "metadata": {
  "kernelspec": {
   "display_name": "gnn",
   "language": "python",
   "name": "gnn"
  },
  "language_info": {
   "codemirror_mode": {
    "name": "ipython",
    "version": 3
   },
   "file_extension": ".py",
   "mimetype": "text/x-python",
   "name": "python",
   "nbconvert_exporter": "python",
   "pygments_lexer": "ipython3",
   "version": "3.10.8"
  }
 },
 "nbformat": 4,
 "nbformat_minor": 2
}
